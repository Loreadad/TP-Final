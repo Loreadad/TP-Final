{
  "nbformat": 4,
  "nbformat_minor": 0,
  "metadata": {
    "colab": {
      "name": "Test TF_Integrador.ipynb",
      "provenance": [],
      "collapsed_sections": [],
      "authorship_tag": "ABX9TyPfGnQd/bMvx4t7mkWAo0aV",
      "include_colab_link": true
    },
    "kernelspec": {
      "name": "python3",
      "display_name": "Python 3"
    },
    "language_info": {
      "name": "python"
    }
  },
  "cells": [
    {
      "cell_type": "markdown",
      "metadata": {
        "id": "view-in-github",
        "colab_type": "text"
      },
      "source": [
        "<a href=\"https://colab.research.google.com/github/Loreadad/TP-Final/blob/main/Test_TF_Integrador.ipynb\" target=\"_parent\"><img src=\"https://colab.research.google.com/assets/colab-badge.svg\" alt=\"Open In Colab\"/></a>"
      ]
    },
    {
      "cell_type": "code",
      "execution_count": null,
      "metadata": {
        "colab": {
          "base_uri": "https://localhost:8080/"
        },
        "id": "5Lhn7tSdBOXF",
        "outputId": "9c3f4ecf-71be-4eeb-991f-4253841b1371"
      },
      "outputs": [
        {
          "name": "stdout",
          "output_type": "stream",
          "text": [
            "Ingrese ticket: NDAQ\n",
            "Ingrese fecha desde: 2021-04-01\n",
            "Ingrese fecha hasta: 2022-04-01\n"
          ]
        }
      ],
      "source": [
        "from calendar import c\n",
        "import requests\n",
        "import datetime\n",
        "import sqlite3 as sql\n",
        "import pandas as pd\n",
        "\n",
        "\n",
        "com = input(\"Ingrese ticket: \")\n",
        "\n",
        "startTime= input(\"Ingrese fecha desde: \") \n",
        "año, mes, dia = map(int, startTime.split('-'))\n",
        "\n",
        "\n",
        "endtime= input(\"Ingrese fecha hasta: \")\n",
        "año, mes, dia = map(int, endtime.split('-'))\n",
        "\n",
        "fecha = startTime + \"/\" + endtime\n",
        "\n",
        "url = \"https://api.polygon.io/v2/aggs/ticker/\"+ str(com) +\"/range/1/day/\"+ str(fecha)+ \"?adjusted=true&sort=asc&limit=120&apiKey=RInphImvZJ9p3rbDMZF76xr712N4Abhs\"\n",
        "\n",
        "payload={}\n",
        "files={}\n",
        "headers = {}\n",
        "\n",
        "response = requests.request(\"GET\", url, headers=headers, data=payload, files=files)\n",
        "\n",
        "res = []\n",
        "data = response.json()\n",
        "\n",
        "for s in data['results']:\n",
        "    res.append(s)\n",
        "\n",
        "df = pd.json_normalize (res)\n",
        "df.to_csv ('archivo_graficar.csv')\n",
        "\n",
        "#filename = 'archivo_graficar.csv'\n",
        "#data = pd.read_csv(filename, header=0)\n",
        "\n",
        "#print (data.head(10))\n",
        "#print(data.shape)\n",
        "\n",
        "# Se crea un archivo csv en fichero local. \n",
        "#Crear tabla y agregar datos a la base de datos a partir de ese archivo csv? (se debería agregar la fecha para graficar)"
      ]
    }
  ]
}